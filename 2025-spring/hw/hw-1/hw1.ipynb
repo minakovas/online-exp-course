{
 "cells": [
  {
   "cell_type": "code",
   "execution_count": 1,
   "id": "de6ffe38-c190-4ebc-85bd-99d59e672a10",
   "metadata": {},
   "outputs": [],
   "source": [
    "import pandas as pd\n",
    "import numpy as np\n",
    "import matplotlib.pyplot as plt\n",
    "\n",
    "from scipy import stats"
   ]
  },
  {
   "cell_type": "markdown",
   "id": "3448a602",
   "metadata": {},
   "source": [
    "# Условие"
   ]
  },
  {
   "cell_type": "markdown",
   "id": "0f7fb6fe-cb90-45e6-b170-5bcf1baa3e09",
   "metadata": {},
   "source": [
    "**В этом домашнем задании вы должны написать свою сплит систему для проведения A/B тестов**\n",
    "\n",
    "В предоставленных данных есть 50000 юзеров, для каждого есть запись какой-то метрики за 2 года (730 дней). \n",
    "\n",
    "Данные: https://disk.yandex.ru/d/2mH8fuKCKLeozg\n",
    "\n",
    "\n",
    "### Ваша задача:\n",
    "\n",
    "1) Написать алгоритм, которые разбивает данные на 3 группы размера около 5000, которые будут считаться \"похожими\".\n",
    "\n",
    "- Для этого вам самостоятельно нужно решить, какие критерии схожести тут применимы и построить необходимые тесты для выбора этих групп.\n",
    "\n",
    "- Данные 3 группы должны считаться похожими на основе ваших метрик. \n",
    "\n",
    "- Разбиение затем будет протестировано на следующих 2х годах нами. \n",
    "\n",
    "2) Визуализировать распределения выбранных вами метрик для найденных групп и сравнить с аналогичными разультатами для случайных групп"
   ]
  },
  {
   "cell_type": "markdown",
   "id": "b7e83afd",
   "metadata": {},
   "source": [
    "### Нужно реализовать следующие функции (вы можете добавлять какие-то побочные, если считаете нужным): \n",
    "\n",
    "`generate_groups`  - функция, которая по данным и числу групп делает случайное разбиение данных на примерно одинаковые части по количеству групп\n",
    "\n",
    "`conduct_test_on_pair` - функция проводит статистические тесты между двумя данными группами и возвращает нужные статистики и результаты\n",
    "\n",
    "`conduct_tests` -- по списку групп и количеству необходимых похожих групп (зафиксировано в условии задачи как 3) перебирает возможные тройки групп пока не найдет похожие, критерий остановки за вами\n",
    "\n",
    "`find_groups` -- берет данные и число групп, на которое вы их разбиваете и ищет 3 группы удовлетворяющие вашим критериям схожести.\n",
    "\n",
    "Рекомендуем начинать с того, чтобы искать разбиение на 2 группы, а не 3, чтобы проверить, что сплит система работает адекватно. Задача с двумя группами зачастую сильно проще, чем с тремя."
   ]
  },
  {
   "cell_type": "markdown",
   "id": "d6e5a5aa-c928-4df4-b5ae-1991c73e2546",
   "metadata": {},
   "source": [
    "Группы должны состоять из уникальных клиентов без дубликатов, один клиент может быть только в одной группе. То есть должны выбирать группы из датасета без повторений и у групп не должно быть пересечений."
   ]
  },
  {
   "cell_type": "markdown",
   "id": "7faa80d2-68b8-4cb4-b1f2-a9cb63f9a8f0",
   "metadata": {},
   "source": [
    " Про то, по каким параметрам оценивать группы: в этом задании вам требуется найти группы, в которых распределения **средних значений и дисперсии данной последовательности** по пользователям похожи. То есть вам нужно вычислить среднее значение и дисперсию данной последовательности для каждого пользователя, а затем проверить, что распределения результатов между группами схожи по вашим тестам.\n",
    "\n",
    "\n",
    "**Замечание**: Для разбиения на группы и сравнения похожести можете брать любую метрику и считать любой критерии, но мы будем сравнивать именно метрику «среднее» и дисперсию на следующих по времени данных"
   ]
  },
  {
   "cell_type": "markdown",
   "id": "a079967d-5c65-44a2-8e93-ed954459e5a7",
   "metadata": {
    "tags": []
   },
   "source": [
    "#### Про систему оценивания: При оценивании мы будем проверять полученные вами группы как на этих данных, так и на следующих двух годах. При проверке будем учитывать и качество полученных групп при помощи метрик. "
   ]
  },
  {
   "cell_type": "markdown",
   "id": "acaec743",
   "metadata": {},
   "source": [
    "## Напишите следующие функции"
   ]
  },
  {
   "cell_type": "code",
   "execution_count": null,
   "id": "7a7e22f0-5ee0-48dc-9191-38d17bb25853",
   "metadata": {},
   "outputs": [],
   "source": [
    "def generate_groups(df, group_num):\n",
    "    \"\"\"\n",
    "    Splits users into group_num groups of similar size\n",
    "    \n",
    "    df : Dataframe with all user data, can be pandas, numpy or whatever you like\n",
    "    group_num : number of groups to split into\n",
    "    \n",
    "    returns a list of dataframes of generated groups\n",
    "    \"\"\"\n",
    "    pass\n",
    "\n",
    "def conduct_tests_on_pair(df_1, df_2):\n",
    "    \"\"\"\n",
    "    Conducts statistical test or tests on two given groups to decide if they are similar\n",
    "    \n",
    "    df_i : Dataframe of users of a single group\n",
    "    \n",
    "    returns p-value or anything you need further\n",
    "    \"\"\"\n",
    "    pass\n",
    "    \n",
    "def conduct_tests(dfs, group_num):\n",
    "    \"\"\"\n",
    "    Goal is to find out if there is group_num groups in the dfs list which are similar enough according to your criterion. \n",
    "    For every (or maybe not every) selection of group_num groups from the dfs list and conducts pairwise tests on selected subset using conduct_tests_on_pair. \n",
    "    \n",
    "    dfs : list of dataframes of groups\n",
    "    \n",
    "    returns list of selected groups or None if there are no similar groups \n",
    "    \"\"\"\n",
    "    pass\n",
    "\n",
    "def find_groups(df, group_num):\n",
    "    \"\"\"\n",
    "    Splits df imto groups and conducts tests on subsets of the groups until necessary groups are found\n",
    "    \"\"\"\n",
    "    for i in range(100000):\n",
    "        dfs = generate_groups(df, group_num)\n",
    "        result = conduct_tests(dfs, 3)\n",
    "        \n",
    "        if result is not None:\n",
    "            return result"
   ]
  },
  {
   "cell_type": "code",
   "execution_count": null,
   "id": "5ec0bb93-2187-43ff-9a9c-e34eb3c01240",
   "metadata": {},
   "outputs": [],
   "source": [
    "df = pd.read_csv('train_data.csv')"
   ]
  },
  {
   "cell_type": "code",
   "execution_count": null,
   "id": "0cc557a0-3d1b-488c-8737-0234e4436e23",
   "metadata": {},
   "outputs": [],
   "source": []
  },
  {
   "cell_type": "code",
   "execution_count": null,
   "id": "3642b77e-a191-4048-9544-64afb8131308",
   "metadata": {
    "tags": []
   },
   "outputs": [],
   "source": [
    "groups = find_groups(df, group_num)"
   ]
  },
  {
   "cell_type": "markdown",
   "id": "72deb6ca-1a40-4791-a8e9-cc6db1cbf5b6",
   "metadata": {},
   "source": [
    "# Visualize groups"
   ]
  },
  {
   "cell_type": "markdown",
   "id": "ab8aa101-49da-44ac-b469-49e87a37ddbf",
   "metadata": {},
   "source": [
    "Тут секция, где вам нужно визуализировать распределения выбранных вами метрик для найденных групп и сравнить с аналогичными разультатами для случайных групп"
   ]
  },
  {
   "cell_type": "code",
   "execution_count": null,
   "id": "90eeec51-b333-427b-8f23-3830179652dc",
   "metadata": {},
   "outputs": [],
   "source": [
    "groups_random = generate_groups(df, 10)"
   ]
  },
  {
   "cell_type": "code",
   "execution_count": null,
   "id": "e7e5e023-ecce-4855-8894-b6d75eafa35f",
   "metadata": {},
   "outputs": [],
   "source": []
  }
 ],
 "metadata": {
  "kernelspec": {
   "display_name": "Python 3 (ipykernel)",
   "language": "python",
   "name": "python3"
  },
  "language_info": {
   "codemirror_mode": {
    "name": "ipython",
    "version": 3
   },
   "file_extension": ".py",
   "mimetype": "text/x-python",
   "name": "python",
   "nbconvert_exporter": "python",
   "pygments_lexer": "ipython3",
   "version": "3.11.4"
  }
 },
 "nbformat": 4,
 "nbformat_minor": 5
}
